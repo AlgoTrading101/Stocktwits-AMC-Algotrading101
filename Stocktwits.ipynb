{
  "nbformat": 4,
  "nbformat_minor": 0,
  "metadata": {
    "colab": {
      "name": "Stocktwits",
      "provenance": [],
      "collapsed_sections": [],
      "authorship_tag": "ABX9TyMx1zH3fiDXv/O84pNC6Tv2",
      "include_colab_link": true
    },
    "kernelspec": {
      "name": "python3",
      "display_name": "Python 3"
    },
    "language_info": {
      "name": "python"
    }
  },
  "cells": [
    {
      "cell_type": "markdown",
      "metadata": {
        "id": "view-in-github",
        "colab_type": "text"
      },
      "source": [
        "<a href=\"https://colab.research.google.com/github/IgorWounds/Stocktwits-AMC-Algotrading101/blob/main/Stocktwits.ipynb\" target=\"_parent\"><img src=\"https://colab.research.google.com/assets/colab-badge.svg\" alt=\"Open In Colab\"/></a>"
      ]
    },
    {
      "cell_type": "markdown",
      "source": [
        "# Obtain data from Stocktwits"
      ],
      "metadata": {
        "id": "7o540CJ50z8a"
      }
    },
    {
      "cell_type": "code",
      "source": [
        "import requests, json\n",
        "import pandas as pd\n",
        "\n",
        "df = pd.DataFrame(columns=['body', 'sentiment'])\n",
        "response = requests.get('https://api.stocktwits.com/api/2/streams/symbol/AMC.json?limit=50')\n",
        "data = json.loads(response.text)\n",
        "\n",
        "for tweet in data['messages']:\n",
        "  df = df.append(\n",
        "      {'body': tweet['body'],\n",
        "       'sentiment':tweet[\"entities\"][\"sentiment\"][\"basic\"] if tweet[\"entities\"][\"sentiment\"] else None\n",
        "      }, \n",
        "      ignore_index=True\n",
        "      )\n",
        "\n",
        "df.head()"
      ],
      "metadata": {
        "colab": {
          "base_uri": "https://localhost:8080/",
          "height": 206
        },
        "id": "SOGCqo5klC50",
        "outputId": "f32a9e27-27b6-4614-ae3a-bbdf4297f52e"
      },
      "execution_count": 1,
      "outputs": [
        {
          "output_type": "execute_result",
          "data": {
            "text/plain": [
              "                                                body sentiment\n",
              "0  $AMC ken griffin should be put in prison \\nYou...   Bullish\n",
              "1                    $AMC \\nANY BEARS WANNA FIGHT!??      None\n",
              "2  $AMC Apes have ransacked their pavilion and th...   Bullish\n",
              "3  $AMC raised my donation another 5,400 shares t...   Bullish\n",
              "4  $AMC Holding 700+ woth 2/3rds been held for ov...      None"
            ],
            "text/html": [
              "\n",
              "  <div id=\"df-994a7315-8639-406a-b2ec-4f225d2a78d8\">\n",
              "    <div class=\"colab-df-container\">\n",
              "      <div>\n",
              "<style scoped>\n",
              "    .dataframe tbody tr th:only-of-type {\n",
              "        vertical-align: middle;\n",
              "    }\n",
              "\n",
              "    .dataframe tbody tr th {\n",
              "        vertical-align: top;\n",
              "    }\n",
              "\n",
              "    .dataframe thead th {\n",
              "        text-align: right;\n",
              "    }\n",
              "</style>\n",
              "<table border=\"1\" class=\"dataframe\">\n",
              "  <thead>\n",
              "    <tr style=\"text-align: right;\">\n",
              "      <th></th>\n",
              "      <th>body</th>\n",
              "      <th>sentiment</th>\n",
              "    </tr>\n",
              "  </thead>\n",
              "  <tbody>\n",
              "    <tr>\n",
              "      <th>0</th>\n",
              "      <td>$AMC ken griffin should be put in prison \\nYou...</td>\n",
              "      <td>Bullish</td>\n",
              "    </tr>\n",
              "    <tr>\n",
              "      <th>1</th>\n",
              "      <td>$AMC \\nANY BEARS WANNA FIGHT!??</td>\n",
              "      <td>None</td>\n",
              "    </tr>\n",
              "    <tr>\n",
              "      <th>2</th>\n",
              "      <td>$AMC Apes have ransacked their pavilion and th...</td>\n",
              "      <td>Bullish</td>\n",
              "    </tr>\n",
              "    <tr>\n",
              "      <th>3</th>\n",
              "      <td>$AMC raised my donation another 5,400 shares t...</td>\n",
              "      <td>Bullish</td>\n",
              "    </tr>\n",
              "    <tr>\n",
              "      <th>4</th>\n",
              "      <td>$AMC Holding 700+ woth 2/3rds been held for ov...</td>\n",
              "      <td>None</td>\n",
              "    </tr>\n",
              "  </tbody>\n",
              "</table>\n",
              "</div>\n",
              "      <button class=\"colab-df-convert\" onclick=\"convertToInteractive('df-994a7315-8639-406a-b2ec-4f225d2a78d8')\"\n",
              "              title=\"Convert this dataframe to an interactive table.\"\n",
              "              style=\"display:none;\">\n",
              "        \n",
              "  <svg xmlns=\"http://www.w3.org/2000/svg\" height=\"24px\"viewBox=\"0 0 24 24\"\n",
              "       width=\"24px\">\n",
              "    <path d=\"M0 0h24v24H0V0z\" fill=\"none\"/>\n",
              "    <path d=\"M18.56 5.44l.94 2.06.94-2.06 2.06-.94-2.06-.94-.94-2.06-.94 2.06-2.06.94zm-11 1L8.5 8.5l.94-2.06 2.06-.94-2.06-.94L8.5 2.5l-.94 2.06-2.06.94zm10 10l.94 2.06.94-2.06 2.06-.94-2.06-.94-.94-2.06-.94 2.06-2.06.94z\"/><path d=\"M17.41 7.96l-1.37-1.37c-.4-.4-.92-.59-1.43-.59-.52 0-1.04.2-1.43.59L10.3 9.45l-7.72 7.72c-.78.78-.78 2.05 0 2.83L4 21.41c.39.39.9.59 1.41.59.51 0 1.02-.2 1.41-.59l7.78-7.78 2.81-2.81c.8-.78.8-2.07 0-2.86zM5.41 20L4 18.59l7.72-7.72 1.47 1.35L5.41 20z\"/>\n",
              "  </svg>\n",
              "      </button>\n",
              "      \n",
              "  <style>\n",
              "    .colab-df-container {\n",
              "      display:flex;\n",
              "      flex-wrap:wrap;\n",
              "      gap: 12px;\n",
              "    }\n",
              "\n",
              "    .colab-df-convert {\n",
              "      background-color: #E8F0FE;\n",
              "      border: none;\n",
              "      border-radius: 50%;\n",
              "      cursor: pointer;\n",
              "      display: none;\n",
              "      fill: #1967D2;\n",
              "      height: 32px;\n",
              "      padding: 0 0 0 0;\n",
              "      width: 32px;\n",
              "    }\n",
              "\n",
              "    .colab-df-convert:hover {\n",
              "      background-color: #E2EBFA;\n",
              "      box-shadow: 0px 1px 2px rgba(60, 64, 67, 0.3), 0px 1px 3px 1px rgba(60, 64, 67, 0.15);\n",
              "      fill: #174EA6;\n",
              "    }\n",
              "\n",
              "    [theme=dark] .colab-df-convert {\n",
              "      background-color: #3B4455;\n",
              "      fill: #D2E3FC;\n",
              "    }\n",
              "\n",
              "    [theme=dark] .colab-df-convert:hover {\n",
              "      background-color: #434B5C;\n",
              "      box-shadow: 0px 1px 3px 1px rgba(0, 0, 0, 0.15);\n",
              "      filter: drop-shadow(0px 1px 2px rgba(0, 0, 0, 0.3));\n",
              "      fill: #FFFFFF;\n",
              "    }\n",
              "  </style>\n",
              "\n",
              "      <script>\n",
              "        const buttonEl =\n",
              "          document.querySelector('#df-994a7315-8639-406a-b2ec-4f225d2a78d8 button.colab-df-convert');\n",
              "        buttonEl.style.display =\n",
              "          google.colab.kernel.accessAllowed ? 'block' : 'none';\n",
              "\n",
              "        async function convertToInteractive(key) {\n",
              "          const element = document.querySelector('#df-994a7315-8639-406a-b2ec-4f225d2a78d8');\n",
              "          const dataTable =\n",
              "            await google.colab.kernel.invokeFunction('convertToInteractive',\n",
              "                                                     [key], {});\n",
              "          if (!dataTable) return;\n",
              "\n",
              "          const docLinkHtml = 'Like what you see? Visit the ' +\n",
              "            '<a target=\"_blank\" href=https://colab.research.google.com/notebooks/data_table.ipynb>data table notebook</a>'\n",
              "            + ' to learn more about interactive tables.';\n",
              "          element.innerHTML = '';\n",
              "          dataTable['output_type'] = 'display_data';\n",
              "          await google.colab.output.renderOutput(dataTable, element);\n",
              "          const docLink = document.createElement('div');\n",
              "          docLink.innerHTML = docLinkHtml;\n",
              "          element.appendChild(docLink);\n",
              "        }\n",
              "      </script>\n",
              "    </div>\n",
              "  </div>\n",
              "  "
            ]
          },
          "metadata": {},
          "execution_count": 1
        }
      ]
    },
    {
      "cell_type": "markdown",
      "source": [
        "# Buy AMC when sentiment is Bullish and vice-versa"
      ],
      "metadata": {
        "id": "JI-mGB6iCS3q"
      }
    },
    {
      "cell_type": "code",
      "source": [
        "!pip3 install alpaca-trade-api"
      ],
      "metadata": {
        "id": "lm_hkaoc2Gi6"
      },
      "execution_count": null,
      "outputs": []
    },
    {
      "cell_type": "code",
      "source": [
        "import requests, json\n",
        "import time\n",
        "import pandas as pd\n",
        "import alpaca_trade_api as tradeapi\n",
        "\n",
        "api_key = 'PKF27QM7BIGZXZYJ9XFN'\n",
        "api_secret = 'EMdrfA0SjhBgrowy2xIBC0qvKUb1heooVJ8QBwYH'\n",
        "base_url = 'https://paper-api.alpaca.markets'\n",
        "\n",
        "api = tradeapi.REST(api_key, api_secret, base_url, api_version='v2')\n",
        "\n",
        "max_position_allowed = 100\n",
        "\n",
        "def order(qty: float, side: str):\n",
        "  api.submit_order(\n",
        "      symbol='AMC', \n",
        "      qty=qty, \n",
        "      side=side, \n",
        "      time_in_force='gtc', \n",
        "      type='market', \n",
        "    )\n",
        "\n",
        "while True:\n",
        "  # Obtain current trading position\n",
        "  current_position  = float(api.get_position(\"AMC\").qty_available)\n",
        "\n",
        "  df = pd.DataFrame(columns=['sentiment'])\n",
        "  response = requests.get('https://api.stocktwits.com/api/2/streams/symbol/AMC.json?limit=30')\n",
        "  data = json.loads(response.text)\n",
        "\n",
        "  for tweet in data['messages']:\n",
        "    df = df.append(\n",
        "        {\n",
        "        'sentiment':tweet[\"entities\"][\"sentiment\"][\"basic\"] if tweet[\"entities\"][\"sentiment\"] else None\n",
        "        }, \n",
        "        ignore_index=True\n",
        "        )\n",
        "    \n",
        "  df.dropna(inplace=True)\n",
        "  df.replace(['Bullish', 'Bearish'], [1, 0], inplace=True)\n",
        "\n",
        "  sentiment = df.sum()\n",
        "\n",
        "  if int(sentiment) > len(df)/2 and current_position < max_position_allowed:\n",
        "    try:\n",
        "      order(10, 'buy')\n",
        "    except Exception:\n",
        "      print(f'Buy order failed: {Exception}')\n",
        "  elif int(sentiment) < len(df)/2 and current_position > -max_position_allowed:\n",
        "    try:\n",
        "      order(10, 'sell')\n",
        "    except Exception:\n",
        "      print(f'Sell order failed: {Exception}')\n",
        "  else:\n",
        "    # Wait it out\n",
        "    continue\n",
        "\n",
        "  time.sleep(15*60)"
      ],
      "metadata": {
        "id": "3sp0Bs-QlC3d",
        "colab": {
          "base_uri": "https://localhost:8080/",
          "height": 208
        },
        "outputId": "b1542863-90ba-4d83-f3b6-0e5bb075a221"
      },
      "execution_count": null,
      "outputs": [
        {
          "output_type": "error",
          "ename": "KeyboardInterrupt",
          "evalue": "ignored",
          "traceback": [
            "\u001b[0;31m---------------------------------------------------------------------------\u001b[0m",
            "\u001b[0;31mKeyboardInterrupt\u001b[0m                         Traceback (most recent call last)",
            "\u001b[0;32m<ipython-input-13-4f299b8abf41>\u001b[0m in \u001b[0;36m<module>\u001b[0;34m()\u001b[0m\n\u001b[1;32m     51\u001b[0m     \u001b[0;32mcontinue\u001b[0m\u001b[0;34m\u001b[0m\u001b[0;34m\u001b[0m\u001b[0m\n\u001b[1;32m     52\u001b[0m \u001b[0;34m\u001b[0m\u001b[0m\n\u001b[0;32m---> 53\u001b[0;31m   \u001b[0mtime\u001b[0m\u001b[0;34m.\u001b[0m\u001b[0msleep\u001b[0m\u001b[0;34m(\u001b[0m\u001b[0;36m15\u001b[0m\u001b[0;34m*\u001b[0m\u001b[0;36m60\u001b[0m\u001b[0;34m)\u001b[0m\u001b[0;34m\u001b[0m\u001b[0;34m\u001b[0m\u001b[0m\n\u001b[0m",
            "\u001b[0;31mKeyboardInterrupt\u001b[0m: "
          ]
        }
      ]
    }
  ]
}